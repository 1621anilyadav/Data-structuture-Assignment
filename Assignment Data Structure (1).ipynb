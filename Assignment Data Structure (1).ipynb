{
 "cells": [
  {
   "cell_type": "markdown",
   "id": "8b33a3d1-bbc3-4366-a839-8bb3d1ff34fd",
   "metadata": {},
   "source": [
    "Question 1\n",
    "Solution\n",
    "In Python programming language, there are two types of Comments\n",
    "1- Single line comment: It is used by # symbol.\n",
    "2- Multiline Comment: It is used by \"\"\" any thing \"\"\"."
   ]
  },
  {
   "cell_type": "markdown",
   "id": "b2c07e41-8210-4d16-a467-c3605f9f1668",
   "metadata": {},
   "source": [
    "Question 2\n",
    "Solution\n",
    "Variables: Variables are like a container which is used to store the data.\n",
    "We can declare a variable by its name and assign some data with this variable.\n",
    "for example:\n",
    "a = 5\n",
    "str = \"pwskills\"\n",
    "c = 23.45\n",
    "d = True"
   ]
  },
  {
   "cell_type": "raw",
   "id": "5d15f6ac-4caa-42ed-9fc4-99a377cfb638",
   "metadata": {},
   "source": [
    "Question 3\n",
    "Solution\n",
    "We can convert one data type to another data type by using type casting method.\n",
    "For example:\n",
    "str=\"15\"\n",
    "b=int(str)\n",
    "here b is int type"
   ]
  },
  {
   "cell_type": "markdown",
   "id": "854be74b-075b-410f-8692-44adc248cbf8",
   "metadata": {},
   "source": [
    "Question 4\n",
    "Solution\n",
    "Open the command promp and then type word python and then enter file path with python extension .py and then hit \n",
    "the enter button."
   ]
  },
  {
   "cell_type": "code",
   "execution_count": 1,
   "id": "b5fd5ba2-97fd-4927-9c72-22f0b3ed0260",
   "metadata": {},
   "outputs": [
    {
     "data": {
      "text/plain": [
       "[2, 3]"
      ]
     },
     "execution_count": 1,
     "metadata": {},
     "output_type": "execute_result"
    }
   ],
   "source": [
    "# Question 5\n",
    "my_list = [1,2,3,4,5]\n",
    "my_list[1:3]"
   ]
  },
  {
   "cell_type": "raw",
   "id": "d4bd3fac-dd31-49b4-8acf-7ca33076108a",
   "metadata": {},
   "source": [
    "Question 6\n",
    "Solution:\n",
    "Complex number is a cobination of real number and imaginary number and it is represented as a + bi in mathematics \n",
    "and in python it is represented as a + bj.\n",
    "we can seperate real and imaginary by using this:\n",
    "for real number a.real\n",
    "for imaginary a.img"
   ]
  },
  {
   "cell_type": "raw",
   "id": "029bb010-19ee-4a48-9bc4-54b4321d19aa",
   "metadata": {},
   "source": [
    "Question 7\n",
    "Solution\n",
    "We can declare a  variable which name is age and assign a value 25 by this:\n",
    "    age = 25\n"
   ]
  },
  {
   "cell_type": "code",
   "execution_count": 2,
   "id": "b8307e03-c961-400d-b7b6-f8ec990a61b4",
   "metadata": {},
   "outputs": [
    {
     "data": {
      "text/plain": [
       "float"
      ]
     },
     "execution_count": 2,
     "metadata": {},
     "output_type": "execute_result"
    }
   ],
   "source": [
    "# question 8\n",
    "\n",
    "price = 9.99\n",
    "type(price)"
   ]
  },
  {
   "cell_type": "code",
   "execution_count": 3,
   "id": "c55f0b5e-fb94-4b18-bf4b-280cf8264c55",
   "metadata": {},
   "outputs": [
    {
     "name": "stdout",
     "output_type": "stream",
     "text": [
      "Anil Yadav\n"
     ]
    }
   ],
   "source": [
    "# question 9\n",
    "name = \"Anil Yadav\"\n",
    "print(name)"
   ]
  },
  {
   "cell_type": "code",
   "execution_count": 4,
   "id": "119d24ff-f286-47ed-88ff-41d5c25aba9d",
   "metadata": {},
   "outputs": [
    {
     "data": {
      "text/plain": [
       "'World'"
      ]
     },
     "execution_count": 4,
     "metadata": {},
     "output_type": "execute_result"
    }
   ],
   "source": [
    "# question 10\n",
    "str = \"Hello, World!\"\n",
    "str[7:12]"
   ]
  },
  {
   "cell_type": "code",
   "execution_count": 6,
   "id": "237f244f-6e8b-4c18-805b-757026f6c33d",
   "metadata": {},
   "outputs": [
    {
     "name": "stdout",
     "output_type": "stream",
     "text": [
      "currently I am a student\n"
     ]
    }
   ],
   "source": [
    "# question 11\n",
    "is_student = True\n",
    "if is_student == True :\n",
    "    print(\"currently I am a student\")\n",
    "else:\n",
    "    print(\"currently I am not a student\")\n",
    "    "
   ]
  },
  {
   "cell_type": "code",
   "execution_count": null,
   "id": "0c04f764-27e6-4837-a688-1966e890292e",
   "metadata": {},
   "outputs": [],
   "source": []
  }
 ],
 "metadata": {
  "kernelspec": {
   "display_name": "Python 3 (ipykernel)",
   "language": "python",
   "name": "python3"
  },
  "language_info": {
   "codemirror_mode": {
    "name": "ipython",
    "version": 3
   },
   "file_extension": ".py",
   "mimetype": "text/x-python",
   "name": "python",
   "nbconvert_exporter": "python",
   "pygments_lexer": "ipython3",
   "version": "3.10.8"
  }
 },
 "nbformat": 4,
 "nbformat_minor": 5
}
